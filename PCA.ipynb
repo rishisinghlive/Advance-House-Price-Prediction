{
 "cells": [
  {
   "cell_type": "code",
   "execution_count": 67,
   "id": "d58a5001",
   "metadata": {},
   "outputs": [],
   "source": [
    "import pandas as pd"
   ]
  },
  {
   "cell_type": "code",
   "execution_count": 69,
   "id": "8803fb1a",
   "metadata": {},
   "outputs": [],
   "source": [
    "import matplotlib.pyplot as plt\n",
    "import seaborn as sns\n",
    "from sklearn.decomposition import PCA"
   ]
  },
  {
   "cell_type": "code",
   "execution_count": 74,
   "id": "ade9e077",
   "metadata": {},
   "outputs": [],
   "source": [
    "d1 = pd.read_csv('log_transformed.csv')"
   ]
  },
  {
   "cell_type": "code",
   "execution_count": 70,
   "id": "01989ba5",
   "metadata": {},
   "outputs": [],
   "source": [
    "pd.set_option('max_columns', None)"
   ]
  },
  {
   "cell_type": "code",
   "execution_count": 75,
   "id": "8a009204",
   "metadata": {},
   "outputs": [],
   "source": [
    "d1.drop('Id', axis = 1, inplace=True)"
   ]
  },
  {
   "cell_type": "code",
   "execution_count": 76,
   "id": "6a233687",
   "metadata": {},
   "outputs": [
    {
     "data": {
      "text/plain": [
       "(1460, 83)"
      ]
     },
     "execution_count": 76,
     "metadata": {},
     "output_type": "execute_result"
    }
   ],
   "source": [
    "d1.shape"
   ]
  },
  {
   "cell_type": "code",
   "execution_count": 77,
   "id": "fea99e57",
   "metadata": {},
   "outputs": [],
   "source": [
    "y1 = d1.SalePrice.copy()\n",
    "d1.drop('SalePrice', axis = 1, inplace = True)"
   ]
  },
  {
   "cell_type": "code",
   "execution_count": 259,
   "id": "f986760b",
   "metadata": {},
   "outputs": [],
   "source": [
    "pca = PCA(n_components=80)"
   ]
  },
  {
   "cell_type": "code",
   "execution_count": 260,
   "id": "dfd53a5a",
   "metadata": {},
   "outputs": [
    {
     "data": {
      "text/plain": [
       "PCA(n_components=80)"
      ]
     },
     "execution_count": 260,
     "metadata": {},
     "output_type": "execute_result"
    }
   ],
   "source": [
    "pca.fit(d1)"
   ]
  },
  {
   "cell_type": "code",
   "execution_count": 261,
   "id": "cbf06d20",
   "metadata": {},
   "outputs": [],
   "source": [
    "x_pca = pca.transform(d1)"
   ]
  },
  {
   "cell_type": "code",
   "execution_count": 262,
   "id": "9e59423f",
   "metadata": {},
   "outputs": [
    {
     "data": {
      "text/plain": [
       "(1460, 80)"
      ]
     },
     "execution_count": 262,
     "metadata": {},
     "output_type": "execute_result"
    }
   ],
   "source": [
    "x_pca.shape"
   ]
  },
  {
   "cell_type": "code",
   "execution_count": 263,
   "id": "0dc9b72a",
   "metadata": {},
   "outputs": [
    {
     "data": {
      "text/plain": [
       "array([2.10533196e-01, 1.73987573e-01, 1.17151400e-01, 9.62307938e-02,\n",
       "       6.96710179e-02, 5.63863621e-02, 4.91028514e-02, 4.21486852e-02,\n",
       "       3.48254823e-02, 2.93822941e-02, 2.42953224e-02, 1.06838423e-02,\n",
       "       9.52767848e-03, 8.90760764e-03, 6.99055859e-03, 6.25231718e-03,\n",
       "       4.91707321e-03, 4.37820811e-03, 3.42032218e-03, 3.26295169e-03,\n",
       "       2.83601848e-03, 2.74190285e-03, 2.18406277e-03, 2.09981213e-03,\n",
       "       1.99032020e-03, 1.58164350e-03, 1.52230958e-03, 1.43710777e-03,\n",
       "       1.39194757e-03, 1.26867786e-03, 1.14374831e-03, 1.04063642e-03,\n",
       "       1.01723949e-03, 9.84954800e-04, 9.25374435e-04, 8.92245687e-04,\n",
       "       8.86923287e-04, 8.47229139e-04, 7.27287453e-04, 6.87611729e-04,\n",
       "       6.48484428e-04, 5.90748450e-04, 5.74425497e-04, 5.58646783e-04,\n",
       "       5.39296363e-04, 5.07991445e-04, 4.80321766e-04, 4.30905891e-04,\n",
       "       4.17823192e-04, 3.90855709e-04, 3.71427613e-04, 3.62050234e-04,\n",
       "       3.39964365e-04, 3.23649183e-04, 3.18626940e-04, 3.01885085e-04,\n",
       "       2.86072122e-04, 2.72426356e-04, 2.43829821e-04, 2.32587425e-04,\n",
       "       2.22007585e-04, 1.93579945e-04, 1.58157276e-04, 1.57135635e-04,\n",
       "       1.29928312e-04, 1.19769381e-04, 1.11811048e-04, 8.82318037e-05,\n",
       "       8.62873139e-05, 6.32360641e-05, 4.96867166e-05, 4.85019105e-05,\n",
       "       3.70428983e-05, 3.36260848e-05, 2.55934007e-05, 8.05315889e-06,\n",
       "       6.21621873e-06, 4.90975666e-06, 7.73978464e-07, 4.76537044e-07])"
      ]
     },
     "execution_count": 263,
     "metadata": {},
     "output_type": "execute_result"
    }
   ],
   "source": [
    "pca.explained_variance_ratio_"
   ]
  },
  {
   "cell_type": "code",
   "execution_count": 264,
   "id": "c0a54a45",
   "metadata": {},
   "outputs": [
    {
     "data": {
      "text/plain": [
       "(1460,)"
      ]
     },
     "execution_count": 264,
     "metadata": {},
     "output_type": "execute_result"
    }
   ],
   "source": [
    "y1.shape"
   ]
  },
  {
   "cell_type": "code",
   "execution_count": 265,
   "id": "f881208f",
   "metadata": {},
   "outputs": [],
   "source": [
    "from sklearn.model_selection import train_test_split"
   ]
  },
  {
   "cell_type": "code",
   "execution_count": 266,
   "id": "abdb9c7c",
   "metadata": {},
   "outputs": [],
   "source": [
    "x_train, x_test, y_train, y_test = train_test_split(x_pca, y1, test_size=0.25, random_state=0)"
   ]
  },
  {
   "cell_type": "code",
   "execution_count": 267,
   "id": "c2ace173",
   "metadata": {},
   "outputs": [],
   "source": [
    "from sklearn.svm import SVR"
   ]
  },
  {
   "cell_type": "code",
   "execution_count": 285,
   "id": "48a4ad6e",
   "metadata": {},
   "outputs": [],
   "source": [
    "svr = SVR()"
   ]
  },
  {
   "cell_type": "code",
   "execution_count": 286,
   "id": "00815ada",
   "metadata": {},
   "outputs": [
    {
     "data": {
      "text/plain": [
       "SVR()"
      ]
     },
     "execution_count": 286,
     "metadata": {},
     "output_type": "execute_result"
    }
   ],
   "source": [
    "svr.fit(x_train, y_train)"
   ]
  },
  {
   "cell_type": "code",
   "execution_count": 287,
   "id": "b3d183d8",
   "metadata": {},
   "outputs": [
    {
     "data": {
      "text/plain": [
       "0.9408789550562382"
      ]
     },
     "execution_count": 287,
     "metadata": {},
     "output_type": "execute_result"
    }
   ],
   "source": [
    "svr.score(x_train, y_train)"
   ]
  },
  {
   "cell_type": "code",
   "execution_count": 288,
   "id": "8e521efe",
   "metadata": {},
   "outputs": [
    {
     "data": {
      "text/plain": [
       "0.8224688369799621"
      ]
     },
     "execution_count": 288,
     "metadata": {},
     "output_type": "execute_result"
    }
   ],
   "source": [
    "svr.score(x_test, y_test)"
   ]
  },
  {
   "cell_type": "code",
   "execution_count": 272,
   "id": "bd298749",
   "metadata": {},
   "outputs": [],
   "source": [
    "from sklearn.linear_model import LinearRegression"
   ]
  },
  {
   "cell_type": "code",
   "execution_count": 273,
   "id": "39d54638",
   "metadata": {},
   "outputs": [],
   "source": [
    "lr = LinearRegression()"
   ]
  },
  {
   "cell_type": "code",
   "execution_count": 274,
   "id": "b52e6f01",
   "metadata": {},
   "outputs": [
    {
     "data": {
      "text/plain": [
       "LinearRegression()"
      ]
     },
     "execution_count": 274,
     "metadata": {},
     "output_type": "execute_result"
    }
   ],
   "source": [
    "lr.fit(x_train, y_train)"
   ]
  },
  {
   "cell_type": "code",
   "execution_count": 275,
   "id": "925cfe21",
   "metadata": {},
   "outputs": [
    {
     "data": {
      "text/plain": [
       "0.9140206290087484"
      ]
     },
     "execution_count": 275,
     "metadata": {},
     "output_type": "execute_result"
    }
   ],
   "source": [
    "lr.score(x_train, y_train)"
   ]
  },
  {
   "cell_type": "code",
   "execution_count": 276,
   "id": "f105e2c5",
   "metadata": {},
   "outputs": [
    {
     "data": {
      "text/plain": [
       "0.8450313368140756"
      ]
     },
     "execution_count": 276,
     "metadata": {},
     "output_type": "execute_result"
    }
   ],
   "source": [
    "lr.score(x_test, y_test)"
   ]
  },
  {
   "cell_type": "code",
   "execution_count": null,
   "id": "50d3c880",
   "metadata": {},
   "outputs": [],
   "source": []
  }
 ],
 "metadata": {
  "kernelspec": {
   "display_name": "Python 3 (ipykernel)",
   "language": "python",
   "name": "python3"
  },
  "language_info": {
   "codemirror_mode": {
    "name": "ipython",
    "version": 3
   },
   "file_extension": ".py",
   "mimetype": "text/x-python",
   "name": "python",
   "nbconvert_exporter": "python",
   "pygments_lexer": "ipython3",
   "version": "3.9.7"
  }
 },
 "nbformat": 4,
 "nbformat_minor": 5
}
